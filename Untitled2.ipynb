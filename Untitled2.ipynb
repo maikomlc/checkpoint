{
 "cells": [
  {
   "cell_type": "code",
   "execution_count": null,
   "id": "9e5a076c-0ff4-4037-9142-1d9203652d30",
   "metadata": {},
   "outputs": [],
   "source": [
    "import tkinter as tk \n",
    "import random\n",
    "window.title('Tic Tac Toe Game')\n",
    "label=tk.Label(text='Welcome to our game')\n",
    "characters=[\"x\",\"o\"]\n",
    "player = random.choice(characters)\n",
    "button = [[\" \",\" \",\" \"],\n",
    "          [\" \",\" \",\" \"],\n",
    "          [\" \",\" \",\" \"]]\n",
    "\n",
    "label.grid(row = o,column=2)\n",
    "window.mainloop()"
   ]
  },
  {
   "cell_type": "code",
   "execution_count": null,
   "id": "335cf03f-551b-4357-858e-ded72db3371d",
   "metadata": {},
   "outputs": [],
   "source": []
  }
 ],
 "metadata": {
  "kernelspec": {
   "display_name": "Python 3 (ipykernel)",
   "language": "python",
   "name": "python3"
  },
  "language_info": {
   "name": ""
  }
 },
 "nbformat": 4,
 "nbformat_minor": 5
}
